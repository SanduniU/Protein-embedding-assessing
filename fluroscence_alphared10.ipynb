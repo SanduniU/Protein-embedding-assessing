{
 "cells": [
  {
   "cell_type": "code",
   "execution_count": 7,
   "metadata": {},
   "outputs": [],
   "source": [
    "from tape.datasets import FluorescenceDataset\n",
    "import numpy as np\n",
    "import pandas as pd"
   ]
  },
  {
   "cell_type": "code",
   "execution_count": 8,
   "metadata": {},
   "outputs": [],
   "source": [
    "# Initialize datasets\n",
    "data_path = 'D:\\\\University\\\\Semester_8\\\\CO549 Computational Bioengineering\\\\Project\\\\data_dir'\n",
    "\n",
    "train_data = FluorescenceDataset(data_path=data_path, split='train')\n",
    "valid_data = FluorescenceDataset(data_path=data_path, split='valid')\n",
    "test_data = FluorescenceDataset(data_path=data_path, split='test')\n"
   ]
  },
  {
   "cell_type": "code",
   "execution_count": 9,
   "metadata": {},
   "outputs": [],
   "source": [
    "from trigrams import get_bag_of_trigrams_reduced\n",
    "from prot2vec import get_protvec_embedding\n",
    "from alphared import reduce_alphabet"
   ]
  },
  {
   "cell_type": "code",
   "execution_count": 10,
   "metadata": {},
   "outputs": [],
   "source": [
    "X_trigrams_train, X_prot2vec_train, y_train = [], [], []\n",
    "X_trigrams_valid, X_prot2vec_valid, y_valid = [], [], []\n",
    "X_trigrams_test, X_prot2vec_test, y_test = [], [], []\n",
    "\n",
    "# Training data\n",
    "for i in range(len(train_data)):\n",
    "    sample = train_data.data[i]\n",
    "    seq = sample['primary']\n",
    "    reduced_seq = reduce_alphabet(seq,alphabet_size=10)\n",
    "    label = float(sample['log_fluorescence'][0])\n",
    "\n",
    "    X_trigrams_train.append(get_bag_of_trigrams_reduced(reduced_seq,alphabet_size=10))\n",
    "    X_prot2vec_train.append(get_protvec_embedding(reduced_seq))\n",
    "    y_train.append(label)\n",
    "\n",
    "# Validation data\n",
    "for i in range(len(valid_data)):\n",
    "    sample = valid_data.data[i]\n",
    "    seq = sample['primary']\n",
    "    label = float(sample['log_fluorescence'][0])\n",
    "    reduced_seq = reduce_alphabet(seq,alphabet_size=10)\n",
    "\n",
    "    X_trigrams_valid.append(get_bag_of_trigrams_reduced(reduced_seq,alphabet_size = 10))\n",
    "    X_prot2vec_valid.append(get_protvec_embedding(reduced_seq))\n",
    "    y_valid.append(label)\n",
    "\n",
    "# Test data\n",
    "for i in range(len(test_data)):\n",
    "    sample = test_data.data[i]\n",
    "    seq = sample['primary']\n",
    "    label = float(sample['log_fluorescence'][0])\n",
    "    reduced_seq = reduce_alphabet(seq,alphabet_size=10)\n",
    "\n",
    "    X_trigrams_test.append(get_bag_of_trigrams_reduced(reduced_seq, alphabet_size=10))\n",
    "    X_prot2vec_test.append(get_protvec_embedding(reduced_seq))\n",
    "    y_test.append(label)\n",
    "\n",
    "# Convert to numpy arrays\n",
    "X_trigrams_train = np.array(X_trigrams_train)\n",
    "X_prot2vec_train = np.array(X_prot2vec_train)\n",
    "y_train = np.array(y_train)\n",
    "\n",
    "X_trigrams_valid = np.array(X_trigrams_valid)\n",
    "X_prot2vec_valid = np.array(X_prot2vec_valid)\n",
    "y_valid = np.array(y_valid)\n",
    "\n",
    "X_trigrams_test = np.array(X_trigrams_test)\n",
    "X_prot2vec_test = np.array(X_prot2vec_test)\n",
    "y_test = np.array(y_test)\n"
   ]
  },
  {
   "cell_type": "code",
   "execution_count": 11,
   "metadata": {},
   "outputs": [],
   "source": [
    "from sklearn.neural_network import MLPRegressor\n",
    "from scipy.stats import spearmanr\n",
    "from sklearn.metrics import mean_squared_error\n"
   ]
  },
  {
   "cell_type": "code",
   "execution_count": 12,
   "metadata": {},
   "outputs": [
    {
     "name": "stdout",
     "output_type": "stream",
     "text": [
      "Bag-of-trigrams - Validation Spearman Rho: 0.6184977441389015\n",
      "Bag-of-trigrams - Validation MSE: 0.2571913533746534\n",
      "Bag-of-trigrams - Validation R^2: 0.6317591238385343\n",
      "Bag-of-trigrams - Test Spearman Rho: 0.5698658204936233\n",
      "Bag-of-trigrams - Test MSE: 0.9146218744089136\n",
      "Bag-of-trigrams - Test R^2: 0.036285816258769255\n"
     ]
    }
   ],
   "source": [
    "# Train MLP on Bag-of-trigrams\n",
    "\n",
    "mlp_trigrams_fluoro = MLPRegressor(hidden_layer_sizes=(128, 64), activation='relu', max_iter=300, random_state=42)\n",
    "mlp_trigrams_fluoro.fit(X_trigrams_train, y_train)\n",
    "\n",
    "# Validation evaluation\n",
    "y_pred_valid_tri = mlp_trigrams_fluoro.predict(X_trigrams_valid)\n",
    "spearman_valid_tri, _ = spearmanr(y_valid, y_pred_valid_tri)\n",
    "print(\"Bag-of-trigrams - Validation Spearman Rho:\", spearman_valid_tri)\n",
    "print(\"Bag-of-trigrams - Validation MSE:\", mean_squared_error(y_valid, y_pred_valid_tri))\n",
    "print(\"Bag-of-trigrams - Validation R^2:\", mlp_trigrams_fluoro.score(X_trigrams_valid, y_valid))\n",
    "\n",
    "# Test evaluation\n",
    "y_pred_test_tri = mlp_trigrams_fluoro.predict(X_trigrams_test)\n",
    "spearman_test_tri, _ = spearmanr(y_test, y_pred_test_tri)\n",
    "print(\"Bag-of-trigrams - Test Spearman Rho:\", spearman_test_tri)\n",
    "print(\"Bag-of-trigrams - Test MSE:\", mean_squared_error(y_test, y_pred_test_tri))\n",
    "print(\"Bag-of-trigrams - Test R^2:\", mlp_trigrams_fluoro.score(X_trigrams_test, y_test))"
   ]
  },
  {
   "cell_type": "code",
   "execution_count": 13,
   "metadata": {},
   "outputs": [
    {
     "name": "stdout",
     "output_type": "stream",
     "text": [
      "Prot2Vec - Validation Spearman Rho: 0.007356088894145153\n",
      "Prot2Vec - Validation R^2: -0.000515454707174845\n",
      "Prot2Vec - Validation MSE: 0.6987923952135178\n",
      "Prot2Vec - Test Spearman Rho: 0.0058234229358271866\n",
      "Prot2Vec - Test R^2: -1.296961163474239\n",
      "Prot2Vec - Test MSE: 2.179952272390122\n"
     ]
    }
   ],
   "source": [
    "# Train MLP on Prot2Vec\n",
    "\n",
    "mlp_prot2vec_fluoro = MLPRegressor(hidden_layer_sizes=(128, 64), activation='relu', max_iter=300, random_state=42)\n",
    "mlp_prot2vec_fluoro.fit(X_prot2vec_train, y_train)\n",
    "\n",
    "# Validation evaluation(Spearman Rho, R^2, MSE)\n",
    "y_pred_valid_pv = mlp_prot2vec_fluoro.predict(X_prot2vec_valid)\n",
    "spearman_valid_pv, _ = spearmanr(y_valid, y_pred_valid_pv)\n",
    "print(\"Prot2Vec - Validation Spearman Rho:\", spearman_valid_pv)\n",
    "print(\"Prot2Vec - Validation R^2:\", mlp_prot2vec_fluoro.score(X_prot2vec_valid, y_valid))\n",
    "print(\"Prot2Vec - Validation MSE:\", mean_squared_error(y_valid, y_pred_valid_pv))\n",
    "\n",
    "# Test evaluation\n",
    "y_pred_test_pv = mlp_prot2vec_fluoro.predict(X_prot2vec_test)\n",
    "spearman_test_pv, _ = spearmanr(y_test, y_pred_test_pv)\n",
    "print(\"Prot2Vec - Test Spearman Rho:\", spearman_test_pv)\n",
    "print(\"Prot2Vec - Test R^2:\", mlp_prot2vec_fluoro.score(X_prot2vec_test, y_test))\n",
    "print(\"Prot2Vec - Test MSE:\", mean_squared_error(y_test, y_pred_test_pv))\n"
   ]
  }
 ],
 "metadata": {
  "kernelspec": {
   "display_name": ".venv",
   "language": "python",
   "name": "python3"
  },
  "language_info": {
   "codemirror_mode": {
    "name": "ipython",
    "version": 3
   },
   "file_extension": ".py",
   "mimetype": "text/x-python",
   "name": "python",
   "nbconvert_exporter": "python",
   "pygments_lexer": "ipython3",
   "version": "3.10.11"
  }
 },
 "nbformat": 4,
 "nbformat_minor": 2
}
