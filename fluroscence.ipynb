{
 "cells": [
  {
   "cell_type": "code",
   "execution_count": 1,
   "metadata": {},
   "outputs": [],
   "source": [
    "from tape.datasets import FluorescenceDataset\n",
    "import numpy as np\n",
    "import pandas as pd"
   ]
  },
  {
   "cell_type": "code",
   "execution_count": 2,
   "metadata": {},
   "outputs": [],
   "source": [
    "# Initialize datasets\n",
    "data_path = 'D:\\\\University\\\\Semester_8\\\\CO549 Computational Bioengineering\\\\Project\\\\data_dir'\n",
    "\n",
    "train_data = FluorescenceDataset(data_path=data_path, split='train')\n",
    "valid_data = FluorescenceDataset(data_path=data_path, split='valid')\n",
    "test_data = FluorescenceDataset(data_path=data_path, split='test')\n"
   ]
  },
  {
   "cell_type": "code",
   "execution_count": 3,
   "metadata": {},
   "outputs": [],
   "source": [
    "from trigrams import get_bag_of_trigrams\n",
    "from prot2vec import get_protvec_embedding"
   ]
  },
  {
   "cell_type": "code",
   "execution_count": 4,
   "metadata": {},
   "outputs": [],
   "source": [
    "X_trigrams_train, X_prot2vec_train, y_train = [], [], []\n",
    "X_trigrams_valid, X_prot2vec_valid, y_valid = [], [], []\n",
    "X_trigrams_test, X_prot2vec_test, y_test = [], [], []\n",
    "\n",
    "# Training data\n",
    "for i in range(len(train_data)):\n",
    "    sample = train_data.data[i]\n",
    "    seq = sample['primary']\n",
    "    label = float(sample['log_fluorescence'][0])\n",
    "\n",
    "    X_trigrams_train.append(get_bag_of_trigrams(seq))\n",
    "    X_prot2vec_train.append(get_protvec_embedding(seq))\n",
    "    y_train.append(label)\n",
    "\n",
    "# Validation data\n",
    "for i in range(len(valid_data)):\n",
    "    sample = valid_data.data[i]\n",
    "    seq = sample['primary']\n",
    "    label = float(sample['log_fluorescence'][0])\n",
    "\n",
    "    X_trigrams_valid.append(get_bag_of_trigrams(seq))\n",
    "    X_prot2vec_valid.append(get_protvec_embedding(seq))\n",
    "    y_valid.append(label)\n",
    "\n",
    "# Test data\n",
    "for i in range(len(test_data)):\n",
    "    sample = test_data.data[i]\n",
    "    seq = sample['primary']\n",
    "    label = float(sample['log_fluorescence'][0])\n",
    "\n",
    "    X_trigrams_test.append(get_bag_of_trigrams(seq))\n",
    "    X_prot2vec_test.append(get_protvec_embedding(seq))\n",
    "    y_test.append(label)\n",
    "\n",
    "# Convert to numpy arrays\n",
    "X_trigrams_train = np.array(X_trigrams_train)\n",
    "X_prot2vec_train = np.array(X_prot2vec_train)\n",
    "y_train = np.array(y_train)\n",
    "\n",
    "X_trigrams_valid = np.array(X_trigrams_valid)\n",
    "X_prot2vec_valid = np.array(X_prot2vec_valid)\n",
    "y_valid = np.array(y_valid)\n",
    "\n",
    "X_trigrams_test = np.array(X_trigrams_test)\n",
    "X_prot2vec_test = np.array(X_prot2vec_test)\n",
    "y_test = np.array(y_test)\n"
   ]
  },
  {
   "cell_type": "code",
   "execution_count": 5,
   "metadata": {},
   "outputs": [],
   "source": [
    "from sklearn.neural_network import MLPRegressor\n",
    "from scipy.stats import spearmanr\n",
    "from sklearn.metrics import mean_squared_error\n"
   ]
  },
  {
   "cell_type": "code",
   "execution_count": 6,
   "metadata": {},
   "outputs": [
    {
     "name": "stdout",
     "output_type": "stream",
     "text": [
      "Bag-of-trigrams - Validation Spearman Rho: 0.8013430546494278\n",
      "Bag-of-trigrams - Validation Mean Squared Error: 0.0833773926399537\n",
      "Bag-of-trigrams - Validation R-squared: 0.8806220982356675\n",
      "Bag-of-trigrams - Test Spearman Rho: 0.6725112674631322\n",
      "Bag-of-trigrams - Test Mean Squared Error: 0.23994056407782402\n",
      "Bag-of-trigrams - Test R-squared: 0.7471806313334581\n"
     ]
    }
   ],
   "source": [
    "# Train MLP on Bag-of-trigrams\n",
    "\n",
    "mlp_trigrams_fluoro = MLPRegressor(hidden_layer_sizes=(128, 64), activation='relu', max_iter=300, random_state=42)\n",
    "mlp_trigrams_fluoro.fit(X_trigrams_train, y_train)\n",
    "\n",
    "# Validation evaluation\n",
    "y_pred_valid_tri = mlp_trigrams_fluoro.predict(X_trigrams_valid)\n",
    "spearman_valid_tri, _ = spearmanr(y_valid, y_pred_valid_tri)\n",
    "print(\"Bag-of-trigrams - Validation Spearman Rho:\", spearman_valid_tri)\n",
    "print(\"Bag-of-trigrams - Validation Mean Squared Error:\", mean_squared_error(y_valid, y_pred_valid_tri))\n",
    "print(\"Bag-of-trigrams - Validation R-squared:\", mlp_trigrams_fluoro.score(X_trigrams_valid, y_valid))\n",
    "\n",
    "# Test evaluation\n",
    "y_pred_test_tri = mlp_trigrams_fluoro.predict(X_trigrams_test)\n",
    "spearman_test_tri, _ = spearmanr(y_test, y_pred_test_tri)\n",
    "print(\"Bag-of-trigrams - Test Spearman Rho:\", spearman_test_tri)\n",
    "print(\"Bag-of-trigrams - Test Mean Squared Error:\", mean_squared_error(y_test, y_pred_test_tri))\n",
    "print(\"Bag-of-trigrams - Test R-squared:\", mlp_trigrams_fluoro.score(X_trigrams_test, y_test))\n"
   ]
  },
  {
   "cell_type": "code",
   "execution_count": 7,
   "metadata": {},
   "outputs": [
    {
     "name": "stdout",
     "output_type": "stream",
     "text": [
      "Prot2Vec - Validation Spearman Rho: 0.36894732002516906\n",
      "Prot2Vec - Validation R^2: 0.2967956432758345\n",
      "Prot2Vec - Validation MSE: 0.4911406959762344\n",
      "Prot2Vec - Test Spearman Rho: 0.3926707200861207\n",
      "Prot2Vec - Test R^2: -0.41318588449757065\n",
      "Prot2Vec - Test MSE: 1.3411971561419367\n"
     ]
    }
   ],
   "source": [
    "# Train MLP on Prot2Vec\n",
    "\n",
    "mlp_prot2vec_fluoro = MLPRegressor(hidden_layer_sizes=(128, 64), activation='relu', max_iter=300, random_state=42)\n",
    "mlp_prot2vec_fluoro.fit(X_prot2vec_train, y_train)\n",
    "\n",
    "# Validation evaluation(Spearman Rho, R^2, MSE)\n",
    "y_pred_valid_pv = mlp_prot2vec_fluoro.predict(X_prot2vec_valid)\n",
    "spearman_valid_pv, _ = spearmanr(y_valid, y_pred_valid_pv)\n",
    "print(\"Prot2Vec - Validation Spearman Rho:\", spearman_valid_pv)\n",
    "print(\"Prot2Vec - Validation R^2:\", mlp_prot2vec_fluoro.score(X_prot2vec_valid, y_valid))\n",
    "print(\"Prot2Vec - Validation MSE:\", mean_squared_error(y_valid, y_pred_valid_pv))\n",
    "\n",
    "# Test evaluation\n",
    "y_pred_test_pv = mlp_prot2vec_fluoro.predict(X_prot2vec_test)\n",
    "spearman_test_pv, _ = spearmanr(y_test, y_pred_test_pv)\n",
    "print(\"Prot2Vec - Test Spearman Rho:\", spearman_test_pv)\n",
    "print(\"Prot2Vec - Test R^2:\", mlp_prot2vec_fluoro.score(X_prot2vec_test, y_test))\n",
    "print(\"Prot2Vec - Test MSE:\", mean_squared_error(y_test, y_pred_test_pv))\n"
   ]
  },
  {
   "cell_type": "code",
   "execution_count": 8,
   "metadata": {},
   "outputs": [
    {
     "name": "stdout",
     "output_type": "stream",
     "text": [
      "Prot2Vec (Random Forest) - Validation Spearman Rho: 0.49002097469947853\n",
      "Prot2Vec (Random Forest) - Validation R^2: 0.34390794687018034\n",
      "Prot2Vec (Random Forest) - Validation MSE: 0.4582359374162033\n",
      "Prot2Vec (Random Forest) - Test Spearman Rho: 0.45469886914066443\n",
      "Prot2Vec (Random Forest) - Test R^2: -0.08694312198494658\n",
      "Prot2Vec (Random Forest) - Test MSE: 1.0315734399035137\n"
     ]
    }
   ],
   "source": [
    "from sklearn.ensemble import RandomForestRegressor\n",
    "from scipy.stats import spearmanr\n",
    "from sklearn.metrics import mean_squared_error\n",
    "\n",
    "# Train Random Forest on Prot2Vec\n",
    "rf_prot2vec_fluoro = RandomForestRegressor(n_estimators=100, random_state=42)\n",
    "rf_prot2vec_fluoro.fit(X_prot2vec_train, y_train)\n",
    "\n",
    "# Validation evaluation (Spearman Rho, R^2, MSE)\n",
    "y_pred_valid_rf_pv = rf_prot2vec_fluoro.predict(X_prot2vec_valid)\n",
    "spearman_valid_rf_pv, _ = spearmanr(y_valid, y_pred_valid_rf_pv)\n",
    "print(\"Prot2Vec (Random Forest) - Validation Spearman Rho:\", spearman_valid_rf_pv)\n",
    "print(\"Prot2Vec (Random Forest) - Validation R^2:\", rf_prot2vec_fluoro.score(X_prot2vec_valid, y_valid))\n",
    "print(\"Prot2Vec (Random Forest) - Validation MSE:\", mean_squared_error(y_valid, y_pred_valid_rf_pv))\n",
    "\n",
    "# Test evaluation\n",
    "y_pred_test_rf_pv = rf_prot2vec_fluoro.predict(X_prot2vec_test)\n",
    "spearman_test_rf_pv, _ = spearmanr(y_test, y_pred_test_rf_pv)\n",
    "print(\"Prot2Vec (Random Forest) - Test Spearman Rho:\", spearman_test_rf_pv)\n",
    "print(\"Prot2Vec (Random Forest) - Test R^2:\", rf_prot2vec_fluoro.score(X_prot2vec_test, y_test))\n",
    "print(\"Prot2Vec (Random Forest) - Test MSE:\", mean_squared_error(y_test, y_pred_test_rf_pv))\n"
   ]
  }
 ],
 "metadata": {
  "kernelspec": {
   "display_name": ".venv",
   "language": "python",
   "name": "python3"
  },
  "language_info": {
   "codemirror_mode": {
    "name": "ipython",
    "version": 3
   },
   "file_extension": ".py",
   "mimetype": "text/x-python",
   "name": "python",
   "nbconvert_exporter": "python",
   "pygments_lexer": "ipython3",
   "version": "3.10.11"
  }
 },
 "nbformat": 4,
 "nbformat_minor": 2
}
