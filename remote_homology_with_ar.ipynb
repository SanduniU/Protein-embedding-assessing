{
 "cells": [
  {
   "cell_type": "code",
   "execution_count": 1,
   "metadata": {},
   "outputs": [],
   "source": [
    "from tape.datasets import RemoteHomologyDataset\n",
    "import numpy as np\n",
    "import pandas as pd"
   ]
  },
  {
   "cell_type": "code",
   "execution_count": 2,
   "metadata": {},
   "outputs": [],
   "source": [
    "data_path = 'D:\\\\University\\\\Semester_8\\\\CO549 Computational Bioengineering\\\\Project\\\\data_dir'\n",
    "\n",
    "train_data = RemoteHomologyDataset(data_path=data_path, split='train')\n",
    "valid_data = RemoteHomologyDataset(data_path=data_path, split='valid')\n",
    "test_data_fold = RemoteHomologyDataset(data_path=data_path, split='test_fold_holdout')\n",
    "test_data_family = RemoteHomologyDataset(data_path=data_path, split='test_family_holdout')\n",
    "test_data_superfamily = RemoteHomologyDataset(data_path=data_path, split='test_superfamily_holdout')\n"
   ]
  },
  {
   "cell_type": "code",
   "execution_count": 3,
   "metadata": {},
   "outputs": [],
   "source": [
    "from prot2vec import get_protvec_embedding\n",
    "from trigrams import get_bag_of_trigrams_reduced\n",
    "from alphared import reduce_alphabet"
   ]
  },
  {
   "cell_type": "code",
   "execution_count": 4,
   "metadata": {},
   "outputs": [],
   "source": [
    "X_trigrams = []\n",
    "X_prot2vec = []\n",
    "y = []\n",
    "\n",
    "# Reduce the alphabet of the sequences in the dataset\n",
    "for i in range(len(train_data)):\n",
    "    item = train_data.data[i]\n",
    "    seq = item['primary']\n",
    "    label = item['fold_label']\n",
    "    reduced_seq = reduce_alphabet(seq,7)  # Reduce the alphabet of the sequence\n",
    "\n",
    "    X_trigrams.append(get_bag_of_trigrams_reduced(reduced_seq, alphabet_size=7))\n",
    "    X_prot2vec.append(get_protvec_embedding(reduced_seq))\n",
    "    y.append(label)\n",
    "\n",
    "X_trigrams = np.array(X_trigrams)\n",
    "X_prot2vec = np.array(X_prot2vec)\n",
    "y = np.array(y)\n"
   ]
  },
  {
   "cell_type": "code",
   "execution_count": 5,
   "metadata": {},
   "outputs": [],
   "source": [
    "\n",
    "X_trigrams_valid = []\n",
    "X_prot2vec_valid = []\n",
    "y_valid = []\n",
    "\n",
    "for i in range(len(valid_data)):\n",
    "    item = valid_data.data[i]\n",
    "    seq = item['primary']\n",
    "    label = item['fold_label']\n",
    "    \n",
    "    reduced_seq = reduce_alphabet(seq, 7)  # Reduce the alphabet of the sequence\n",
    "    X_trigrams_valid.append(get_bag_of_trigrams_reduced(reduced_seq, alphabet_size=7))\n",
    "    X_prot2vec_valid.append(get_protvec_embedding(reduced_seq))\n",
    "    y_valid.append(label)\n",
    "\n",
    "X_trigrams_valid = np.array(X_trigrams_valid)\n",
    "X_prot2vec_valid = np.array(X_prot2vec_valid)\n",
    "y_valid = np.array(y_valid)\n"
   ]
  },
  {
   "cell_type": "code",
   "execution_count": 6,
   "metadata": {},
   "outputs": [],
   "source": [
    "X_trigrams_test = []\n",
    "X_prot2vec_test = []\n",
    "y_test = []\n",
    "\n",
    "for i in range(len(test_data_fold)):\n",
    "    sample = test_data_fold.data[i]\n",
    "    seq = sample['primary']\n",
    "    label = sample['fold_label']\n",
    "    reduced_seq = reduce_alphabet(seq, 7)  # Reduce the alphabet of the sequence\n",
    "    \n",
    "    X_trigrams_test.append(get_bag_of_trigrams_reduced(reduced_seq, alphabet_size=7))\n",
    "    X_prot2vec_test.append(get_protvec_embedding(reduced_seq))\n",
    "    y_test.append(label)\n",
    "\n",
    "X_trigrams_test = np.array(X_trigrams_test)\n",
    "X_prot2vec_test = np.array(X_prot2vec_test)\n",
    "y_test = np.array(y_test)\n"
   ]
  },
  {
   "cell_type": "code",
   "execution_count": 7,
   "metadata": {},
   "outputs": [],
   "source": [
    "from sklearn.svm import SVC\n",
    "from sklearn.metrics import accuracy_score, f1_score\n"
   ]
  },
  {
   "cell_type": "code",
   "execution_count": 8,
   "metadata": {},
   "outputs": [
    {
     "name": "stdout",
     "output_type": "stream",
     "text": [
      "Bag-of-trigrams - Validation Accuracy: 8.423913043478262 %\n",
      "Bag-of-trigrams - Validation Macro F1: 0.9814702243681707 %\n",
      "Bag-of-trigrams - Test Accuracy: 12.256267409470752 %\n",
      "Bag-of-trigrams - Test Macro F1: 1.9685077877218098 %\n"
     ]
    }
   ],
   "source": [
    "clf_tri = SVC(kernel='rbf', C=1.0)\n",
    "clf_tri.fit(X_trigrams, y)\n",
    "\n",
    "# Evaluate on validation set\n",
    "y_pred_valid = clf_tri.predict(X_trigrams_valid)\n",
    "acc_valid = accuracy_score(y_valid, y_pred_valid)\n",
    "f1_valid = f1_score(y_valid, y_pred_valid, average='macro')\n",
    "print(\"Bag-of-trigrams - Validation Accuracy:\", acc_valid*100, \"%\")\n",
    "print(\"Bag-of-trigrams - Validation Macro F1:\", f1_valid*100, \"%\")\n",
    "\n",
    "# Evaluate on test set\n",
    "y_pred_test = clf_tri.predict(X_trigrams_test)\n",
    "acc_test = accuracy_score(y_test, y_pred_test)\n",
    "f1_test = f1_score(y_test, y_pred_test, average='macro')\n",
    "print(\"Bag-of-trigrams - Test Accuracy:\", acc_test*100, \"%\")\n",
    "print(\"Bag-of-trigrams - Test Macro F1:\", f1_test*100, \"%\")\n"
   ]
  },
  {
   "cell_type": "code",
   "execution_count": 9,
   "metadata": {},
   "outputs": [
    {
     "name": "stdout",
     "output_type": "stream",
     "text": [
      "Prot2Vec - Validation Accuracy: 0.020380434782608696\n",
      "Prot2Vec - Validation Macro F1: 0.00012522488301908844\n",
      "Prot2Vec - Test Accuracy: 0.027855153203342618\n",
      "Prot2Vec - Test Macro F1: 0.00039853339709867687\n"
     ]
    }
   ],
   "source": [
    "clf_prot = SVC(kernel='rbf', C=1.0)\n",
    "clf_prot.fit(X_prot2vec, y)\n",
    "\n",
    "# Evaluate on validation set\n",
    "y_pred_valid = clf_prot.predict(X_prot2vec_valid)\n",
    "acc_valid = accuracy_score(y_valid, y_pred_valid)\n",
    "f1_valid = f1_score(y_valid, y_pred_valid, average='macro')\n",
    "print(\"Prot2Vec - Validation Accuracy:\", acc_valid)\n",
    "print(\"Prot2Vec - Validation Macro F1:\", f1_valid)\n",
    "\n",
    "# Evaluate on test set\n",
    "y_pred_test = clf_prot.predict(X_prot2vec_test)\n",
    "acc_test = accuracy_score(y_test, y_pred_test)\n",
    "f1_test = f1_score(y_test, y_pred_test, average='macro')\n",
    "print(\"Prot2Vec - Test Accuracy:\", acc_test)\n",
    "print(\"Prot2Vec - Test Macro F1:\", f1_test)\n"
   ]
  },
  {
   "cell_type": "code",
   "execution_count": 10,
   "metadata": {},
   "outputs": [],
   "source": [
    "# Extract features\n",
    "X_trigrams_test_family = []\n",
    "X_prot2vec_test_family = []\n",
    "y_test_family = []\n",
    "\n",
    "for i in range(len(test_data_family)):\n",
    "    sample = test_data_family.data[i]\n",
    "    seq = sample['primary']\n",
    "    label = sample['fold_label']\n",
    "\n",
    "    reduced_seq = reduce_alphabet(seq, 7)  # Reduce the alphabet of the sequence\n",
    "    X_trigrams_test_family.append(get_bag_of_trigrams_reduced(reduced_seq, alphabet_size=7))\n",
    "    X_prot2vec_test_family.append(get_protvec_embedding(seq))\n",
    "    y_test_family.append(label)\n",
    "\n",
    "X_trigrams_test_family = np.array(X_trigrams_test_family)\n",
    "X_prot2vec_test_family = np.array(X_prot2vec_test_family)\n",
    "y_test_family = np.array(y_test_family)\n",
    "\n"
   ]
  },
  {
   "cell_type": "code",
   "execution_count": 11,
   "metadata": {},
   "outputs": [
    {
     "name": "stdout",
     "output_type": "stream",
     "text": [
      "Bag-of-trigrams - Family Holdout Accuracy: 49.056603773584904 %\n",
      "Bag-of-trigrams - Family Holdout Macro F1: 25.155237917195233 %\n",
      "Prot2Vec - Family Holdout Accuracy: 14.229559748427672 %\n",
      "Prot2Vec - Family Holdout Macro F1: 0.131819952879829 %\n"
     ]
    }
   ],
   "source": [
    "# Family level classification\n",
    "\n",
    "clf_tri_family = SVC(kernel='rbf', C=1.0)\n",
    "clf_tri_family.fit(X_trigrams, y)\n",
    "\n",
    "y_pred_test_family = clf_tri_family.predict(X_trigrams_test_family)\n",
    "\n",
    "acc_test_family = accuracy_score(y_test_family, y_pred_test_family)\n",
    "f1_test_family = f1_score(y_test_family, y_pred_test_family, average='macro')\n",
    "\n",
    "print(\"Bag-of-trigrams - Family Holdout Accuracy:\", acc_test_family * 100, \"%\")\n",
    "print(\"Bag-of-trigrams - Family Holdout Macro F1:\", f1_test_family * 100, \"%\")\n",
    "\n",
    "clf_prot_family = SVC(kernel='rbf', C=1.0)\n",
    "\n",
    "clf_prot_family.fit(X_prot2vec, y)\n",
    "y_pred_test_family = clf_prot_family.predict(X_prot2vec_test_family)\n",
    "acc_test_family = accuracy_score(y_test_family, y_pred_test_family)\n",
    "f1_test_family = f1_score(y_test_family, y_pred_test_family, average='macro')\n",
    "print(\"Prot2Vec - Family Holdout Accuracy:\", acc_test_family * 100, \"%\")\n",
    "print(\"Prot2Vec - Family Holdout Macro F1:\", f1_test_family * 100, \"%\")"
   ]
  },
  {
   "cell_type": "code",
   "execution_count": 12,
   "metadata": {},
   "outputs": [],
   "source": [
    "# Extract features\n",
    "X_trigrams_test_superfamily = []\n",
    "X_prot2vec_test_superfamily = []\n",
    "y_test_superfamily = []\n",
    "\n",
    "for i in range(len(test_data_superfamily)):\n",
    "    sample = test_data_superfamily.data[i]\n",
    "    seq = sample['primary']\n",
    "    label = sample['fold_label']\n",
    "\n",
    "    reduced_seq = reduce_alphabet(seq, 7)  # Reduce the alphabet of the sequence\n",
    "    X_trigrams_test_superfamily.append(get_bag_of_trigrams_reduced(reduced_seq, alphabet_size=7))\n",
    "    X_prot2vec_test_superfamily.append(get_protvec_embedding(seq))\n",
    "    y_test_superfamily.append(label)\n",
    "\n",
    "X_trigrams_test_superfamily = np.array(X_trigrams_test_superfamily)\n",
    "X_prot2vec_test_superfamily = np.array(X_prot2vec_test_superfamily)\n",
    "y_test_superfamily = np.array(y_test_superfamily)\n",
    "\n"
   ]
  },
  {
   "cell_type": "code",
   "execution_count": 13,
   "metadata": {},
   "outputs": [
    {
     "name": "stdout",
     "output_type": "stream",
     "text": [
      "Bag-of-trigrams - Superfamily Holdout Accuracy: 8.851674641148326 %\n",
      "Bag-of-trigrams - Superfamily Holdout Macro F1: 0.8062545576169745 %\n",
      "Prot2Vec - Superfamily Holdout Accuracy: 1.5948963317384368 %\n",
      "Prot2Vec - Superfamily Holdout Macro F1: 0.008673252556441191 %\n"
     ]
    }
   ],
   "source": [
    "\n",
    "# 3. Train same model on normal train split\n",
    "clf_tri_superfamily = SVC(kernel='rbf', C=1.0)\n",
    "clf_tri_superfamily.fit(X_trigrams, y)\n",
    "\n",
    "# 4. Evaluate on superfamily holdout\n",
    "y_pred_test_superfamily = clf_tri_superfamily.predict(X_trigrams_test_superfamily)\n",
    "\n",
    "acc_test_superfamily = accuracy_score(y_test_superfamily, y_pred_test_superfamily)\n",
    "f1_test_superfamily = f1_score(y_test_superfamily, y_pred_test_superfamily, average='macro')\n",
    "\n",
    "print(\"Bag-of-trigrams - Superfamily Holdout Accuracy:\", acc_test_superfamily * 100, \"%\")\n",
    "print(\"Bag-of-trigrams - Superfamily Holdout Macro F1:\", f1_test_superfamily * 100, \"%\")\n",
    "\n",
    "clf_prot_superfamily = SVC(kernel='rbf', C=1.0)\n",
    "clf_prot_superfamily.fit(X_prot2vec, y)\n",
    "y_pred_test_superfamily = clf_prot_superfamily.predict(X_prot2vec_test_superfamily)\n",
    "acc_test_superfamily = accuracy_score(y_test_superfamily, y_pred_test_superfamily)\n",
    "f1_test_superfamily = f1_score(y_test_superfamily, y_pred_test_superfamily, average='macro')\n",
    "\n",
    "print(\"Prot2Vec - Superfamily Holdout Accuracy:\", acc_test_superfamily * 100, \"%\")\n",
    "print(\"Prot2Vec - Superfamily Holdout Macro F1:\", f1_test_superfamily * 100, \"%\")"
   ]
  },
  {
   "cell_type": "code",
   "execution_count": 14,
   "metadata": {},
   "outputs": [
    {
     "name": "stdout",
     "output_type": "stream",
     "text": [
      "\n",
      "[MLP - Bag-of-trigrams]\n",
      "Fold Validation Accuracy: 8.28804347826087 %\n",
      "Fold Validation Macro F1: 2.6155704901919563 %\n",
      "Fold Test Accuracy: 8.913649025069638 %\n",
      "Fold Test Macro F1: 1.8501340899933771 %\n",
      "\n",
      "Family Test Accuracy: 50.70754716981132 %\n",
      "Family Test Macro F1: 27.86396633653463 %\n",
      "\n",
      "Superfamily Test Accuracy: 8.054226475279107 %\n",
      "Superfamily Test Macro F1: 2.2992274782393487 %\n"
     ]
    }
   ],
   "source": [
    "from sklearn.neural_network import MLPClassifier\n",
    "from sklearn.preprocessing import StandardScaler\n",
    "from sklearn.metrics import accuracy_score, f1_score\n",
    "import numpy as np\n",
    "\n",
    "# ========== 1. Scale features ==========\n",
    "\n",
    "scaler_trigrams = StandardScaler()\n",
    "X_trigrams_scaled = scaler_trigrams.fit_transform(X_trigrams)\n",
    "X_trigrams_valid_scaled = scaler_trigrams.transform(X_trigrams_valid)\n",
    "X_trigrams_test_fold_scaled = scaler_trigrams.transform(X_trigrams_test)\n",
    "X_trigrams_test_family_scaled = scaler_trigrams.transform(X_trigrams_test_family)\n",
    "X_trigrams_test_superfamily_scaled = scaler_trigrams.transform(X_trigrams_test_superfamily)\n",
    "\n",
    "# ========== 2. Define MLP model ==========\n",
    "\n",
    "mlp_trigrams = MLPClassifier(hidden_layer_sizes=(512, 256, 128),\n",
    "                             activation='relu',\n",
    "                             solver='adam',\n",
    "                             max_iter=300,\n",
    "                             random_state=42,\n",
    "                             early_stopping=True)\n",
    "\n",
    "# ========== 3. Train on fold-level (original train set) ==========\n",
    "\n",
    "mlp_trigrams.fit(X_trigrams_scaled, y)\n",
    "\n",
    "# ========== 4. Evaluate fold-level validation ==========\n",
    "\n",
    "y_pred_valid_tri = mlp_trigrams.predict(X_trigrams_valid_scaled)\n",
    "acc_valid_tri = accuracy_score(y_valid, y_pred_valid_tri)\n",
    "f1_valid_tri = f1_score(y_valid, y_pred_valid_tri, average='macro')\n",
    "\n",
    "print(\"\\n[MLP - Bag-of-trigrams]\")\n",
    "print(\"Fold Validation Accuracy:\", acc_valid_tri * 100, \"%\")\n",
    "print(\"Fold Validation Macro F1:\", f1_valid_tri * 100, \"%\")\n",
    "\n",
    "# ========== 5. Test fold-level holdout ==========\n",
    "\n",
    "y_pred_test_fold_tri = mlp_trigrams.predict(X_trigrams_test_fold_scaled)\n",
    "acc_test_fold_tri = accuracy_score(y_test, y_pred_test_fold_tri)\n",
    "f1_test_fold_tri = f1_score(y_test, y_pred_test_fold_tri, average='macro')\n",
    "\n",
    "print(\"Fold Test Accuracy:\", acc_test_fold_tri * 100, \"%\")\n",
    "print(\"Fold Test Macro F1:\", f1_test_fold_tri * 100, \"%\")\n",
    "\n",
    "# ========== 6. Test family-level holdout ==========\n",
    "\n",
    "y_pred_test_family_tri = mlp_trigrams.predict(X_trigrams_test_family_scaled)\n",
    "acc_test_family_tri = accuracy_score(y_test_family, y_pred_test_family_tri)\n",
    "f1_test_family_tri = f1_score(y_test_family, y_pred_test_family_tri, average='macro')\n",
    "\n",
    "print(\"\\nFamily Test Accuracy:\", acc_test_family_tri * 100, \"%\")\n",
    "print(\"Family Test Macro F1:\", f1_test_family_tri * 100, \"%\")\n",
    "\n",
    "# ========== 7. Test superfamily-level holdout ==========\n",
    "\n",
    "y_pred_test_superfamily_tri = mlp_trigrams.predict(X_trigrams_test_superfamily_scaled)\n",
    "acc_test_superfamily_tri = accuracy_score(y_test_superfamily, y_pred_test_superfamily_tri)\n",
    "f1_test_superfamily_tri = f1_score(y_test_superfamily, y_pred_test_superfamily_tri, average='macro')\n",
    "\n",
    "print(\"\\nSuperfamily Test Accuracy:\", acc_test_superfamily_tri * 100, \"%\")\n",
    "print(\"Superfamily Test Macro F1:\", f1_test_superfamily_tri * 100, \"%\")"
   ]
  }
 ],
 "metadata": {
  "kernelspec": {
   "display_name": ".venv",
   "language": "python",
   "name": "python3"
  },
  "language_info": {
   "codemirror_mode": {
    "name": "ipython",
    "version": 3
   },
   "file_extension": ".py",
   "mimetype": "text/x-python",
   "name": "python",
   "nbconvert_exporter": "python",
   "pygments_lexer": "ipython3",
   "version": "3.10.11"
  }
 },
 "nbformat": 4,
 "nbformat_minor": 2
}
